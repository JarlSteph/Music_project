{
 "cells": [
  {
   "cell_type": "code",
   "execution_count": 4,
   "id": "586aec24",
   "metadata": {},
   "outputs": [],
   "source": [
    "from BPM import BPM_extractor\n",
    "\n",
    "import  matplotlib.pyplot as plt \n",
    "from pydub import AudioSegment\n",
    "import numpy as np \n",
    "import librosa"
   ]
  },
  {
   "cell_type": "code",
   "execution_count": null,
   "id": "2cb1f831",
   "metadata": {},
   "outputs": [],
   "source": [
    "\n",
    "class sound_C(): \n",
    "    def __init__(self, path):\n",
    "        sound = AudioSegment.from_file(path)\n",
    "        self.fs = sound.frame_rate\n",
    "        if sound.channels == 2:\n",
    "            sound = sound.set_channels(1)\n",
    "        # normalize: \n",
    "        audio = np.array(sound.get_array_of_samples())\n",
    "        audio = audio / np.max(np.abs(audio))\n",
    "        self.sound = audio\n",
    "        \n",
    "    def shorten(self, start = 0.0, end = 1.1): # in secs\n",
    "        self.sound = self.sound[int(start* self.fs):int(end*self.fs)]\n",
    "    \n",
    "    def give_short(self, start = 0.0, end = 1.1):\n",
    "        return self.sound[int(start* self.fs):int(end*self.fs)]\n",
    "\n",
    "    def __len__(self):\n",
    "        return len(self.sound)\n",
    "    \n",
    "s1 = sound_C(\"../data/Jez_ebel - ADHD copy.mp3\")\n"
   ]
  },
  {
   "cell_type": "code",
   "execution_count": 9,
   "id": "7b65a034",
   "metadata": {},
   "outputs": [],
   "source": [
    "spectral = BPM_extractor(s1.fs, novelty=\"spectral\")\n",
    "energy = BPM_extractor(s1.fs, novelty=\"energy\")"
   ]
  },
  {
   "cell_type": "code",
   "execution_count": 10,
   "id": "71943392",
   "metadata": {},
   "outputs": [
    {
     "ename": "TypeError",
     "evalue": "'float' object cannot be interpreted as an integer",
     "output_type": "error",
     "traceback": [
      "\u001b[0;31m---------------------------------------------------------------------------\u001b[0m",
      "\u001b[0;31mTypeError\u001b[0m                                 Traceback (most recent call last)",
      "Cell \u001b[0;32mIn[10], line 1\u001b[0m\n\u001b[0;32m----> 1\u001b[0m \u001b[43mspectral\u001b[49m\u001b[38;5;241;43m.\u001b[39;49m\u001b[43mplot_novelty\u001b[49m\u001b[43m(\u001b[49m\u001b[43ms1\u001b[49m\u001b[38;5;241;43m.\u001b[39;49m\u001b[43msound\u001b[49m\u001b[43m)\u001b[49m\n",
      "File \u001b[0;32m~/Desktop/DT2470 Music/Project/BPM extraction/BPM.py:55\u001b[0m, in \u001b[0;36mBPM_extractor.plot_novelty\u001b[0;34m(self, sound, win_size, hop)\u001b[0m\n\u001b[1;32m     53\u001b[0m \u001b[38;5;28;01mdef\u001b[39;00m \u001b[38;5;21mplot_novelty\u001b[39m(\u001b[38;5;28mself\u001b[39m, sound, win_size \u001b[38;5;241m=\u001b[39m \u001b[38;5;241m0.1\u001b[39m, hop \u001b[38;5;241m=\u001b[39m \u001b[38;5;241m0.5\u001b[39m): \n\u001b[1;32m     54\u001b[0m     time_axis \u001b[38;5;241m=\u001b[39m np\u001b[38;5;241m.\u001b[39mlinspace(\u001b[38;5;241m0\u001b[39m, \u001b[38;5;28mlen\u001b[39m(sound) \u001b[38;5;241m/\u001b[39m \u001b[38;5;28mself\u001b[39m\u001b[38;5;241m.\u001b[39msr, num\u001b[38;5;241m=\u001b[39m\u001b[38;5;28mlen\u001b[39m(sound), endpoint\u001b[38;5;241m=\u001b[39m\u001b[38;5;28;01mFalse\u001b[39;00m)\n\u001b[0;32m---> 55\u001b[0m     novelty \u001b[38;5;241m=\u001b[39m \u001b[38;5;28;43mself\u001b[39;49m\u001b[38;5;241;43m.\u001b[39;49m\u001b[43mnovelty_f\u001b[49m\u001b[43m(\u001b[49m\u001b[43msound\u001b[49m\u001b[43m,\u001b[49m\u001b[43m \u001b[49m\u001b[43mwin_size\u001b[49m\u001b[43m,\u001b[49m\u001b[43m \u001b[49m\u001b[43mhop\u001b[49m\u001b[43m)\u001b[49m\n\u001b[1;32m     56\u001b[0m     \u001b[38;5;66;03m# Create time axis for novelty (centered between frames)\u001b[39;00m\n\u001b[1;32m     57\u001b[0m     novelty_time \u001b[38;5;241m=\u001b[39m np\u001b[38;5;241m.\u001b[39marange(\u001b[38;5;28mlen\u001b[39m(novelty)) \u001b[38;5;241m*\u001b[39m hop \u001b[38;5;241m+\u001b[39m (win_size \u001b[38;5;241m/\u001b[39m \u001b[38;5;241m2\u001b[39m)\n",
      "File \u001b[0;32m~/Desktop/DT2470 Music/Project/BPM extraction/BPM.py:36\u001b[0m, in \u001b[0;36mBPM_extractor._spectral_novelty\u001b[0;34m(self, sound, winsize, hop)\u001b[0m\n\u001b[1;32m     33\u001b[0m \u001b[38;5;28;01mdef\u001b[39;00m \u001b[38;5;21m_spectral_novelty\u001b[39m(\u001b[38;5;28mself\u001b[39m, sound, winsize, hop):\n\u001b[1;32m     34\u001b[0m     \u001b[38;5;66;03m# Number of frames by truncation\u001b[39;00m\n\u001b[1;32m     35\u001b[0m     n_frames \u001b[38;5;241m=\u001b[39m \u001b[38;5;241m1\u001b[39m \u001b[38;5;241m+\u001b[39m (\u001b[38;5;28mlen\u001b[39m(sound) \u001b[38;5;241m-\u001b[39m winsize) \u001b[38;5;241m/\u001b[39m\u001b[38;5;241m/\u001b[39m hop\n\u001b[0;32m---> 36\u001b[0m     frames \u001b[38;5;241m=\u001b[39m \u001b[43mnp\u001b[49m\u001b[38;5;241;43m.\u001b[39;49m\u001b[43mlib\u001b[49m\u001b[38;5;241;43m.\u001b[39;49m\u001b[43mstride_tricks\u001b[49m\u001b[38;5;241;43m.\u001b[39;49m\u001b[43mas_strided\u001b[49m\u001b[43m(\u001b[49m\n\u001b[1;32m     37\u001b[0m \u001b[43m        \u001b[49m\u001b[43msound\u001b[49m\u001b[43m,\u001b[49m\u001b[43m \u001b[49m\u001b[43mshape\u001b[49m\u001b[38;5;241;43m=\u001b[39;49m\u001b[43m(\u001b[49m\u001b[43mn_frames\u001b[49m\u001b[43m,\u001b[49m\u001b[43m \u001b[49m\u001b[43mwinsize\u001b[49m\u001b[43m)\u001b[49m\u001b[43m,\u001b[49m\n\u001b[1;32m     38\u001b[0m \u001b[43m        \u001b[49m\u001b[43mstrides\u001b[49m\u001b[38;5;241;43m=\u001b[39;49m\u001b[43m(\u001b[49m\u001b[43msound\u001b[49m\u001b[38;5;241;43m.\u001b[39;49m\u001b[43mstrides\u001b[49m\u001b[43m[\u001b[49m\u001b[38;5;241;43m0\u001b[39;49m\u001b[43m]\u001b[49m\u001b[43m \u001b[49m\u001b[38;5;241;43m*\u001b[39;49m\u001b[43m \u001b[49m\u001b[43mhop\u001b[49m\u001b[43m,\u001b[49m\u001b[43m \u001b[49m\u001b[43msound\u001b[49m\u001b[38;5;241;43m.\u001b[39;49m\u001b[43mstrides\u001b[49m\u001b[43m[\u001b[49m\u001b[38;5;241;43m0\u001b[39;49m\u001b[43m]\u001b[49m\u001b[43m)\u001b[49m\u001b[43m,\u001b[49m\u001b[43m \u001b[49m\u001b[43mwriteable\u001b[49m\u001b[38;5;241;43m=\u001b[39;49m\u001b[38;5;28;43;01mFalse\u001b[39;49;00m\u001b[43m)\u001b[49m\n\u001b[1;32m     39\u001b[0m     \u001b[38;5;66;03m# Hann window\u001b[39;00m\n\u001b[1;32m     40\u001b[0m     window \u001b[38;5;241m=\u001b[39m np\u001b[38;5;241m.\u001b[39mhanning(winsize)\u001b[38;5;241m.\u001b[39mastype(np\u001b[38;5;241m.\u001b[39mfloat64)\n",
      "File \u001b[0;32m~/anaconda3/lib/python3.10/site-packages/numpy/lib/stride_tricks.py:105\u001b[0m, in \u001b[0;36mas_strided\u001b[0;34m(x, shape, strides, subok, writeable)\u001b[0m\n\u001b[1;32m    102\u001b[0m \u001b[38;5;28;01mif\u001b[39;00m strides \u001b[38;5;129;01mis\u001b[39;00m \u001b[38;5;129;01mnot\u001b[39;00m \u001b[38;5;28;01mNone\u001b[39;00m:\n\u001b[1;32m    103\u001b[0m     interface[\u001b[38;5;124m'\u001b[39m\u001b[38;5;124mstrides\u001b[39m\u001b[38;5;124m'\u001b[39m] \u001b[38;5;241m=\u001b[39m \u001b[38;5;28mtuple\u001b[39m(strides)\n\u001b[0;32m--> 105\u001b[0m array \u001b[38;5;241m=\u001b[39m \u001b[43mnp\u001b[49m\u001b[38;5;241;43m.\u001b[39;49m\u001b[43masarray\u001b[49m\u001b[43m(\u001b[49m\u001b[43mDummyArray\u001b[49m\u001b[43m(\u001b[49m\u001b[43minterface\u001b[49m\u001b[43m,\u001b[49m\u001b[43m \u001b[49m\u001b[43mbase\u001b[49m\u001b[38;5;241;43m=\u001b[39;49m\u001b[43mx\u001b[49m\u001b[43m)\u001b[49m\u001b[43m)\u001b[49m\n\u001b[1;32m    106\u001b[0m \u001b[38;5;66;03m# The route via `__interface__` does not preserve structured\u001b[39;00m\n\u001b[1;32m    107\u001b[0m \u001b[38;5;66;03m# dtypes. Since dtype should remain unchanged, we set it explicitly.\u001b[39;00m\n\u001b[1;32m    108\u001b[0m array\u001b[38;5;241m.\u001b[39mdtype \u001b[38;5;241m=\u001b[39m x\u001b[38;5;241m.\u001b[39mdtype\n",
      "\u001b[0;31mTypeError\u001b[0m: 'float' object cannot be interpreted as an integer"
     ]
    }
   ],
   "source": [
    "spectral.plot_novelty(s1.sound)"
   ]
  },
  {
   "cell_type": "code",
   "execution_count": null,
   "id": "a26a000e",
   "metadata": {},
   "outputs": [],
   "source": []
  }
 ],
 "metadata": {
  "kernelspec": {
   "display_name": "base",
   "language": "python",
   "name": "python3"
  },
  "language_info": {
   "codemirror_mode": {
    "name": "ipython",
    "version": 3
   },
   "file_extension": ".py",
   "mimetype": "text/x-python",
   "name": "python",
   "nbconvert_exporter": "python",
   "pygments_lexer": "ipython3",
   "version": "3.10.9"
  }
 },
 "nbformat": 4,
 "nbformat_minor": 5
}
