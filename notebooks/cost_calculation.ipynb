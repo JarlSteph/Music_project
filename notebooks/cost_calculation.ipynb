{
 "cells": [
  {
   "cell_type": "code",
   "execution_count": null,
   "id": "e343a1d6",
   "metadata": {},
   "outputs": [],
   "source": [
    "#TODO: Testa transition_cost funktionerna på data/map.csv och plot:a kostnaden per låt"
   ]
  }
 ],
 "metadata": {
  "kernelspec": {
   "display_name": "musinf",
   "language": "python",
   "name": "python3"
  },
  "language_info": {
   "name": "python",
   "version": "3.11.13"
  }
 },
 "nbformat": 4,
 "nbformat_minor": 5
}
