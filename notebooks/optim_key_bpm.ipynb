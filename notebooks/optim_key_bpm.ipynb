{
 "cells": [
  {
   "cell_type": "code",
   "execution_count": 1,
   "id": "c7c6b8b5",
   "metadata": {},
   "outputs": [
    {
     "name": "stderr",
     "output_type": "stream",
     "text": [
      "/Users/jarlstephansson/anaconda3/lib/python3.10/site-packages/pandas/core/arrays/masked.py:60: UserWarning: Pandas requires version '1.3.6' or newer of 'bottleneck' (version '1.3.5' currently installed).\n",
      "  from pandas.core import (\n"
     ]
    }
   ],
   "source": [
    "import sys\n",
    "sys.path.append('../BPM_extraction')\n",
    "from BPM import BPM_extractor\n",
    "\n",
    "import  matplotlib.pyplot as plt \n",
    "from pydub import AudioSegment\n",
    "import numpy as np \n",
    "import librosa\n",
    "import pandas as pd\n",
    "# import oskars stuffs\n",
    "\n",
    "\n"
   ]
  },
  {
   "cell_type": "code",
   "execution_count": 2,
   "id": "d429dbfb",
   "metadata": {},
   "outputs": [],
   "source": [
    "\n",
    "class sound_C(): \n",
    "    def __init__(self, path):\n",
    "        sound = AudioSegment.from_file(path)\n",
    "        self.fs = sound.frame_rate\n",
    "        if sound.channels == 2:\n",
    "            sound = sound.set_channels(1)\n",
    "        # normalize: \n",
    "        audio = np.array(sound.get_array_of_samples())\n",
    "        audio = audio / np.max(np.abs(audio))\n",
    "        self.sound = audio\n",
    "        \n",
    "    def shorten(self, start = 0.0, end = 1.1): # in secs\n",
    "        self.sound = self.sound[int(start* self.fs):int(end*self.fs)]\n",
    "    \n",
    "    def give_short(self, start = 0.0, end = 1.1):\n",
    "        return self.sound[int(start* self.fs):int(end*self.fs)]\n",
    "\n",
    "    def __len__(self):\n",
    "        return len(self.sound)"
   ]
  },
  {
   "cell_type": "code",
   "execution_count": null,
   "id": "de9e1595",
   "metadata": {},
   "outputs": [
    {
     "name": "stdout",
     "output_type": "stream",
     "text": [
      "../data/KEY-BPM_train-val/alleswirdgut - Brutalismus 3000.mp3\n"
     ]
    },
    {
     "ename": "FileNotFoundError",
     "evalue": "[Errno 2] No such file or directory: '../data/KEY-BPM_train-val/alleswirdgut - Brutalismus 3000.mp3'",
     "output_type": "error",
     "traceback": [
      "\u001b[0;31m---------------------------------------------------------------------------\u001b[0m",
      "\u001b[0;31mFileNotFoundError\u001b[0m                         Traceback (most recent call last)",
      "Cell \u001b[0;32mIn[3], line 24\u001b[0m\n\u001b[1;32m     20\u001b[0m         errors\u001b[38;5;241m.\u001b[39mappend(mse)\n\u001b[1;32m     22\u001b[0m     \u001b[38;5;28mprint\u001b[39m(np\u001b[38;5;241m.\u001b[39marray(errors)\u001b[38;5;241m.\u001b[39mmean())\n\u001b[0;32m---> 24\u001b[0m \u001b[43mloop\u001b[49m\u001b[43m(\u001b[49m\u001b[43mmap_path\u001b[49m\u001b[43m,\u001b[49m\u001b[43m \u001b[49m\u001b[43mdata_path\u001b[49m\u001b[43m)\u001b[49m\n",
      "Cell \u001b[0;32mIn[3], line 12\u001b[0m, in \u001b[0;36mloop\u001b[0;34m(map_path, data_path)\u001b[0m\n\u001b[1;32m     10\u001b[0m file_path \u001b[38;5;241m=\u001b[39m \u001b[38;5;124mf\u001b[39m\u001b[38;5;124m\"\u001b[39m\u001b[38;5;132;01m{\u001b[39;00mdata_path\u001b[38;5;132;01m}\u001b[39;00m\u001b[38;5;124m/\u001b[39m\u001b[38;5;132;01m{\u001b[39;00mrow[\u001b[38;5;124m'\u001b[39m\u001b[38;5;124msong\u001b[39m\u001b[38;5;124m'\u001b[39m]\u001b[38;5;132;01m}\u001b[39;00m\u001b[38;5;124m.mp3\u001b[39m\u001b[38;5;124m\"\u001b[39m\n\u001b[1;32m     11\u001b[0m \u001b[38;5;28mprint\u001b[39m(file_path)\n\u001b[0;32m---> 12\u001b[0m sound \u001b[38;5;241m=\u001b[39m \u001b[43msound_C\u001b[49m\u001b[43m(\u001b[49m\u001b[38;5;124;43mf\u001b[39;49m\u001b[38;5;124;43m\"\u001b[39;49m\u001b[38;5;132;43;01m{\u001b[39;49;00m\u001b[43mfile_path\u001b[49m\u001b[38;5;132;43;01m}\u001b[39;49;00m\u001b[38;5;124;43m\"\u001b[39;49m\u001b[43m)\u001b[49m\n\u001b[1;32m     13\u001b[0m sr \u001b[38;5;241m=\u001b[39m sound\u001b[38;5;241m.\u001b[39mfs\n\u001b[1;32m     14\u001b[0m audio \u001b[38;5;241m=\u001b[39m sound\u001b[38;5;241m.\u001b[39msound\n",
      "Cell \u001b[0;32mIn[2], line 3\u001b[0m, in \u001b[0;36msound_C.__init__\u001b[0;34m(self, path)\u001b[0m\n\u001b[1;32m      2\u001b[0m \u001b[38;5;28;01mdef\u001b[39;00m \u001b[38;5;21m__init__\u001b[39m(\u001b[38;5;28mself\u001b[39m, path):\n\u001b[0;32m----> 3\u001b[0m     sound \u001b[38;5;241m=\u001b[39m \u001b[43mAudioSegment\u001b[49m\u001b[38;5;241;43m.\u001b[39;49m\u001b[43mfrom_file\u001b[49m\u001b[43m(\u001b[49m\u001b[43mpath\u001b[49m\u001b[43m)\u001b[49m\n\u001b[1;32m      4\u001b[0m     \u001b[38;5;28mself\u001b[39m\u001b[38;5;241m.\u001b[39mfs \u001b[38;5;241m=\u001b[39m sound\u001b[38;5;241m.\u001b[39mframe_rate\n\u001b[1;32m      5\u001b[0m     \u001b[38;5;28;01mif\u001b[39;00m sound\u001b[38;5;241m.\u001b[39mchannels \u001b[38;5;241m==\u001b[39m \u001b[38;5;241m2\u001b[39m:\n",
      "File \u001b[0;32m~/anaconda3/lib/python3.10/site-packages/pydub/audio_segment.py:651\u001b[0m, in \u001b[0;36mAudioSegment.from_file\u001b[0;34m(cls, file, format, codec, parameters, start_second, duration, **kwargs)\u001b[0m\n\u001b[1;32m    649\u001b[0m \u001b[38;5;28;01mexcept\u001b[39;00m \u001b[38;5;167;01mTypeError\u001b[39;00m:\n\u001b[1;32m    650\u001b[0m     filename \u001b[38;5;241m=\u001b[39m \u001b[38;5;28;01mNone\u001b[39;00m\n\u001b[0;32m--> 651\u001b[0m file, close_file \u001b[38;5;241m=\u001b[39m \u001b[43m_fd_or_path_or_tempfile\u001b[49m\u001b[43m(\u001b[49m\u001b[43mfile\u001b[49m\u001b[43m,\u001b[49m\u001b[43m \u001b[49m\u001b[38;5;124;43m'\u001b[39;49m\u001b[38;5;124;43mrb\u001b[39;49m\u001b[38;5;124;43m'\u001b[39;49m\u001b[43m,\u001b[49m\u001b[43m \u001b[49m\u001b[43mtempfile\u001b[49m\u001b[38;5;241;43m=\u001b[39;49m\u001b[38;5;28;43;01mFalse\u001b[39;49;00m\u001b[43m)\u001b[49m\n\u001b[1;32m    653\u001b[0m \u001b[38;5;28;01mif\u001b[39;00m \u001b[38;5;28mformat\u001b[39m:\n\u001b[1;32m    654\u001b[0m     \u001b[38;5;28mformat\u001b[39m \u001b[38;5;241m=\u001b[39m \u001b[38;5;28mformat\u001b[39m\u001b[38;5;241m.\u001b[39mlower()\n",
      "File \u001b[0;32m~/anaconda3/lib/python3.10/site-packages/pydub/utils.py:60\u001b[0m, in \u001b[0;36m_fd_or_path_or_tempfile\u001b[0;34m(fd, mode, tempfile)\u001b[0m\n\u001b[1;32m     57\u001b[0m     close_fd \u001b[38;5;241m=\u001b[39m \u001b[38;5;28;01mTrue\u001b[39;00m\n\u001b[1;32m     59\u001b[0m \u001b[38;5;28;01mif\u001b[39;00m \u001b[38;5;28misinstance\u001b[39m(fd, basestring):\n\u001b[0;32m---> 60\u001b[0m     fd \u001b[38;5;241m=\u001b[39m \u001b[38;5;28;43mopen\u001b[39;49m\u001b[43m(\u001b[49m\u001b[43mfd\u001b[49m\u001b[43m,\u001b[49m\u001b[43m \u001b[49m\u001b[43mmode\u001b[49m\u001b[38;5;241;43m=\u001b[39;49m\u001b[43mmode\u001b[49m\u001b[43m)\u001b[49m\n\u001b[1;32m     61\u001b[0m     close_fd \u001b[38;5;241m=\u001b[39m \u001b[38;5;28;01mTrue\u001b[39;00m\n\u001b[1;32m     63\u001b[0m \u001b[38;5;28;01mtry\u001b[39;00m:\n",
      "\u001b[0;31mFileNotFoundError\u001b[0m: [Errno 2] No such file or directory: '../data/KEY-BPM_train-val/alleswirdgut - Brutalismus 3000.mp3'"
     ]
    }
   ],
   "source": [
    "map_path = \"../data/map.csv\"\n",
    "data_path = \"../data/KEY-BPM_train-val\"\n",
    "\n",
    "def loop(map_path, data_path): \n",
    "    df =pd.read_csv(map_path)\n",
    "    errors = []\n",
    "\n",
    "    # here we loop thorugh all the rows in the csv file\n",
    "    for index, row in df.iterrows():\n",
    "        file_path = f\"{data_path}/{row['song']}.mp3\"\n",
    "        print(file_path)\n",
    "        sound = sound_C(f\"{file_path}\")\n",
    "        sr = sound.fs\n",
    "        audio = sound.sound\n",
    "        Extractor = BPM_extractor(sr, novelty = \"spectral\", tempogram = \"fourier\", \n",
    "                 novelty_w = 1.0, novelty_hop = 0.1,\n",
    "                 tempo_w = 20.0, tempo_hop = 1.0)\n",
    "        __,__, __ , bpm = Extractor.get_BPM(audio, plot = False)\n",
    "        mse = np.abs(row[\"BPM\"] - bpm)\n",
    "        errors.append(mse)\n",
    "    \n",
    "    print(np.array(errors).mean())\n",
    "        \n",
    "loop(map_path, data_path)\n",
    "\n",
    "\"data/KEY-BPM_train-val\"/ alleswirdgut - Brutalismus 3000.mp3"
   ]
  },
  {
   "cell_type": "code",
   "execution_count": null,
   "id": "fd91107e",
   "metadata": {},
   "outputs": [],
   "source": []
  }
 ],
 "metadata": {
  "kernelspec": {
   "display_name": "base",
   "language": "python",
   "name": "python3"
  },
  "language_info": {
   "codemirror_mode": {
    "name": "ipython",
    "version": 3
   },
   "file_extension": ".py",
   "mimetype": "text/x-python",
   "name": "python",
   "nbconvert_exporter": "python",
   "pygments_lexer": "ipython3",
   "version": "3.10.9"
  }
 },
 "nbformat": 4,
 "nbformat_minor": 5
}
