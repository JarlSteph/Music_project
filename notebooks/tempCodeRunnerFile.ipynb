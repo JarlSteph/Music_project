perm, cost = create_path_from_df(df_prediction)

df_ordered_p = df_prediction.iloc[perm].reset_index(drop=True)

# Ordering the reference set
reference_perm = df_reference['ix']
reference_perm
